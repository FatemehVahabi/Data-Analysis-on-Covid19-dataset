{
 "cells": [
  {
   "cell_type": "markdown",
   "id": "4ebfce7b-a4f8-484c-88d6-84e7c262903b",
   "metadata": {},
   "source": [
    "# Data Analysis on Covid 19"
   ]
  },
  {
   "cell_type": "code",
   "execution_count": 1,
   "id": "bbed8e57-790a-4cbc-8582-87da3c78e10a",
   "metadata": {},
   "outputs": [],
   "source": [
    "import pandas as pd\n",
    "import seaborn as sns\n",
    "import matplotlib.pyplot as plt\n"
   ]
  },
  {
   "cell_type": "code",
   "execution_count": 2,
   "id": "64f4eb19-4174-4dde-87dc-fdb2bb7114d7",
   "metadata": {},
   "outputs": [],
   "source": [
    "data = pd.read_csv(r\"C:\\Users\\BiG\\Jupyter Lab\\Datamining\\Covid 19\\Covid_19_data (1).csv\")"
   ]
  },
  {
   "cell_type": "code",
   "execution_count": 3,
   "id": "6ba5c6dc-316a-4ef8-82f8-5d7c537b9052",
   "metadata": {},
   "outputs": [
    {
     "data": {
      "text/html": [
       "<div>\n",
       "<style scoped>\n",
       "    .dataframe tbody tr th:only-of-type {\n",
       "        vertical-align: middle;\n",
       "    }\n",
       "\n",
       "    .dataframe tbody tr th {\n",
       "        vertical-align: top;\n",
       "    }\n",
       "\n",
       "    .dataframe thead th {\n",
       "        text-align: right;\n",
       "    }\n",
       "</style>\n",
       "<table border=\"1\" class=\"dataframe\">\n",
       "  <thead>\n",
       "    <tr style=\"text-align: right;\">\n",
       "      <th></th>\n",
       "      <th>Date</th>\n",
       "      <th>State</th>\n",
       "      <th>Region</th>\n",
       "      <th>Confirmed</th>\n",
       "      <th>Deaths</th>\n",
       "      <th>Recovered</th>\n",
       "    </tr>\n",
       "  </thead>\n",
       "  <tbody>\n",
       "    <tr>\n",
       "      <th>0</th>\n",
       "      <td>4/29/2020</td>\n",
       "      <td>NaN</td>\n",
       "      <td>Afghanistan</td>\n",
       "      <td>1939</td>\n",
       "      <td>60</td>\n",
       "      <td>252</td>\n",
       "    </tr>\n",
       "    <tr>\n",
       "      <th>1</th>\n",
       "      <td>4/29/2020</td>\n",
       "      <td>NaN</td>\n",
       "      <td>Albania</td>\n",
       "      <td>766</td>\n",
       "      <td>30</td>\n",
       "      <td>455</td>\n",
       "    </tr>\n",
       "    <tr>\n",
       "      <th>2</th>\n",
       "      <td>4/29/2020</td>\n",
       "      <td>NaN</td>\n",
       "      <td>Algeria</td>\n",
       "      <td>3848</td>\n",
       "      <td>444</td>\n",
       "      <td>1702</td>\n",
       "    </tr>\n",
       "    <tr>\n",
       "      <th>3</th>\n",
       "      <td>4/29/2020</td>\n",
       "      <td>NaN</td>\n",
       "      <td>Andorra</td>\n",
       "      <td>743</td>\n",
       "      <td>42</td>\n",
       "      <td>423</td>\n",
       "    </tr>\n",
       "    <tr>\n",
       "      <th>4</th>\n",
       "      <td>4/29/2020</td>\n",
       "      <td>NaN</td>\n",
       "      <td>Angola</td>\n",
       "      <td>27</td>\n",
       "      <td>2</td>\n",
       "      <td>7</td>\n",
       "    </tr>\n",
       "    <tr>\n",
       "      <th>...</th>\n",
       "      <td>...</td>\n",
       "      <td>...</td>\n",
       "      <td>...</td>\n",
       "      <td>...</td>\n",
       "      <td>...</td>\n",
       "      <td>...</td>\n",
       "    </tr>\n",
       "    <tr>\n",
       "      <th>316</th>\n",
       "      <td>4/29/2020</td>\n",
       "      <td>Wyoming</td>\n",
       "      <td>US</td>\n",
       "      <td>545</td>\n",
       "      <td>7</td>\n",
       "      <td>0</td>\n",
       "    </tr>\n",
       "    <tr>\n",
       "      <th>317</th>\n",
       "      <td>4/29/2020</td>\n",
       "      <td>Xinjiang</td>\n",
       "      <td>Mainland China</td>\n",
       "      <td>76</td>\n",
       "      <td>3</td>\n",
       "      <td>73</td>\n",
       "    </tr>\n",
       "    <tr>\n",
       "      <th>318</th>\n",
       "      <td>4/29/2020</td>\n",
       "      <td>Yukon</td>\n",
       "      <td>Canada</td>\n",
       "      <td>11</td>\n",
       "      <td>0</td>\n",
       "      <td>0</td>\n",
       "    </tr>\n",
       "    <tr>\n",
       "      <th>319</th>\n",
       "      <td>4/29/2020</td>\n",
       "      <td>Yunnan</td>\n",
       "      <td>Mainland China</td>\n",
       "      <td>185</td>\n",
       "      <td>2</td>\n",
       "      <td>181</td>\n",
       "    </tr>\n",
       "    <tr>\n",
       "      <th>320</th>\n",
       "      <td>4/29/2020</td>\n",
       "      <td>Zhejiang</td>\n",
       "      <td>Mainland China</td>\n",
       "      <td>1268</td>\n",
       "      <td>1</td>\n",
       "      <td>1263</td>\n",
       "    </tr>\n",
       "  </tbody>\n",
       "</table>\n",
       "<p>321 rows × 6 columns</p>\n",
       "</div>"
      ],
      "text/plain": [
       "          Date     State          Region  Confirmed  Deaths  Recovered\n",
       "0    4/29/2020       NaN     Afghanistan       1939      60        252\n",
       "1    4/29/2020       NaN         Albania        766      30        455\n",
       "2    4/29/2020       NaN         Algeria       3848     444       1702\n",
       "3    4/29/2020       NaN         Andorra        743      42        423\n",
       "4    4/29/2020       NaN          Angola         27       2          7\n",
       "..         ...       ...             ...        ...     ...        ...\n",
       "316  4/29/2020   Wyoming              US        545       7          0\n",
       "317  4/29/2020  Xinjiang  Mainland China         76       3         73\n",
       "318  4/29/2020     Yukon          Canada         11       0          0\n",
       "319  4/29/2020    Yunnan  Mainland China        185       2        181\n",
       "320  4/29/2020  Zhejiang  Mainland China       1268       1       1263\n",
       "\n",
       "[321 rows x 6 columns]"
      ]
     },
     "execution_count": 3,
     "metadata": {},
     "output_type": "execute_result"
    }
   ],
   "source": [
    "data"
   ]
  },
  {
   "cell_type": "markdown",
   "id": "71d6d0eb-b630-44aa-bb47-4d3c5a09daf6",
   "metadata": {},
   "source": [
    "### we have NULL data so we have to check and delete them"
   ]
  },
  {
   "cell_type": "code",
   "execution_count": 4,
   "id": "ae9c6df5-1730-40ad-9ec6-ab903dd57820",
   "metadata": {},
   "outputs": [
    {
     "data": {
      "image/png": "[encoded data removed]",
      "text/plain": [
       "<Figure size 640x480 with 2 Axes>"
      ]
     },
     "metadata": {},
     "output_type": "display_data"
    }
   ],
   "source": [
    "sns.heatmap(data.isnull())\n",
    "plt.show()"
   ]
  },
  {
   "cell_type": "code",
   "execution_count": 5,
   "id": "6afea849-cf84-4773-b1bf-5fc2cd476e60",
   "metadata": {},
   "outputs": [],
   "source": [
    "data = data.dropna()\n"
   ]
  },
  {
   "cell_type": "code",
   "execution_count": 6,
   "id": "8f730a17-1911-4d5b-8177-c7ee55316838",
   "metadata": {},
   "outputs": [
    {
     "data": {
      "image/png": "[encoded data removed]",
      "text/plain": [
       "<Figure size 640x480 with 2 Axes>"
      ]
     },
     "metadata": {},
     "output_type": "display_data"
    }
   ],
   "source": [
    "sns.heatmap(data.isnull())\n",
    "plt.show()"
   ]
  },
  {
   "cell_type": "markdown",
   "id": "3a8c0eaa-ae1e-4c9a-addc-233ca0760ca9",
   "metadata": {},
   "source": [
    "### lets check some query togther!!"
   ]
  },
  {
   "cell_type": "markdown",
   "id": "e00143a8-5047-4215-afce-3b6f897ac982",
   "metadata": {},
   "source": [
    "## Q.1) How many regions are showing zero deaths from COVID-19?"
   ]
  },
  {
   "cell_type": "code",
   "execution_count": 7,
   "id": "ad209242-bae6-4d6f-866b-5e5aeeaef773",
   "metadata": {},
   "outputs": [
    {
     "data": {
      "text/html": [
       "<div>\n",
       "<style scoped>\n",
       "    .dataframe tbody tr th:only-of-type {\n",
       "        vertical-align: middle;\n",
       "    }\n",
       "\n",
       "    .dataframe tbody tr th {\n",
       "        vertical-align: top;\n",
       "    }\n",
       "\n",
       "    .dataframe thead th {\n",
       "        text-align: right;\n",
       "    }\n",
       "</style>\n",
       "<table border=\"1\" class=\"dataframe\">\n",
       "  <thead>\n",
       "    <tr style=\"text-align: right;\">\n",
       "      <th></th>\n",
       "      <th>Date</th>\n",
       "      <th>State</th>\n",
       "      <th>Region</th>\n",
       "      <th>Confirmed</th>\n",
       "      <th>Deaths</th>\n",
       "      <th>Recovered</th>\n",
       "    </tr>\n",
       "  </thead>\n",
       "  <tbody>\n",
       "    <tr>\n",
       "      <th>181</th>\n",
       "      <td>4/29/2020</td>\n",
       "      <td>Alabama</td>\n",
       "      <td>US</td>\n",
       "      <td>6912</td>\n",
       "      <td>256</td>\n",
       "      <td>0</td>\n",
       "    </tr>\n",
       "  </tbody>\n",
       "</table>\n",
       "</div>"
      ],
      "text/plain": [
       "          Date    State Region  Confirmed  Deaths  Recovered\n",
       "181  4/29/2020  Alabama     US       6912     256          0"
      ]
     },
     "execution_count": 7,
     "metadata": {},
     "output_type": "execute_result"
    }
   ],
   "source": [
    "data.head(1)"
   ]
  },
  {
   "cell_type": "code",
   "execution_count": 8,
   "id": "6bde6d65-fa37-4a75-bc6c-bc873aaf3a36",
   "metadata": {},
   "outputs": [
    {
     "data": {
      "text/plain": [
       "184                UK\n",
       "192       Netherlands\n",
       "204                US\n",
       "206                UK\n",
       "207           Denmark\n",
       "210            France\n",
       "214                UK\n",
       "215            Canada\n",
       "217           Denmark\n",
       "237    Mainland China\n",
       "244             Macau\n",
       "259            Canada\n",
       "260            France\n",
       "267    Mainland China\n",
       "271         Australia\n",
       "272            Canada\n",
       "279            Canada\n",
       "281    Mainland China\n",
       "284            Canada\n",
       "285                US\n",
       "286            France\n",
       "288            France\n",
       "289            France\n",
       "294    Mainland China\n",
       "305    Mainland China\n",
       "318            Canada\n",
       "Name: Region, dtype: object"
      ]
     },
     "execution_count": 8,
     "metadata": {},
     "output_type": "execute_result"
    }
   ],
   "source": [
    "zero_death_regions = data[data['Deaths'] == 0]['Region']\n",
    "zero_death_regions"
   ]
  },
  {
   "cell_type": "markdown",
   "id": "1612029a-0037-48e9-9e49-a1343c192ab0",
   "metadata": {},
   "source": [
    "## Q.2) Which region has the highest recovery rate (ratio of recovered cases to confirmed cases)?"
   ]
  },
  {
   "cell_type": "code",
   "execution_count": 9,
   "id": "64f97bf2-88c8-4814-abfe-4c618ae9d078",
   "metadata": {},
   "outputs": [
    {
     "name": "stdout",
     "output_type": "stream",
     "text": [
      "Region with the highest recovery rate: Denmark\n",
      "The highest recovery rate: 0.9696969696969697\n"
     ]
    }
   ],
   "source": [
    "import pandas as pd\n",
    "\n",
    "recovery_rates = []\n",
    "\n",
    "# Calculate recovery rate for each region\n",
    "for region in data['Region'].unique():\n",
    "    region_data = data[data['Region'] == region]\n",
    "    confirmed_cases = region_data['Confirmed'].sum()\n",
    "    recovered_cases = region_data['Recovered'].sum()\n",
    "    recovery_rate = recovered_cases / confirmed_cases\n",
    "    recovery_rates.append((region, recovery_rate))\n",
    "\n",
    "# Sort recovery rates in descending order\n",
    "recovery_rates.sort(key=lambda x: x[1], reverse=True)\n",
    "\n",
    "# Print the region with the highest recovery rate\n",
    "print(\"Region with the highest recovery rate:\", recovery_rates[0][0])\n",
    "print(\"The highest recovery rate:\", recovery_rates[0][1])"
   ]
  },
  {
   "cell_type": "markdown",
   "id": "9017dca2-9424-4b33-81a1-4802c3e2c2cc",
   "metadata": {},
   "source": [
    "## Q.3) Are there any regions where the number of recovered cases exceeds the number of confirmed cases?"
   ]
  },
  {
   "cell_type": "code",
   "execution_count": 10,
   "id": "9728269b-3037-4e0a-aa43-7eec07a54cad",
   "metadata": {},
   "outputs": [
    {
     "data": {
      "text/html": [
       "<div>\n",
       "<style scoped>\n",
       "    .dataframe tbody tr th:only-of-type {\n",
       "        vertical-align: middle;\n",
       "    }\n",
       "\n",
       "    .dataframe tbody tr th {\n",
       "        vertical-align: top;\n",
       "    }\n",
       "\n",
       "    .dataframe thead th {\n",
       "        text-align: right;\n",
       "    }\n",
       "</style>\n",
       "<table border=\"1\" class=\"dataframe\">\n",
       "  <thead>\n",
       "    <tr style=\"text-align: right;\">\n",
       "      <th></th>\n",
       "      <th>Date</th>\n",
       "      <th>State</th>\n",
       "      <th>Region</th>\n",
       "      <th>Confirmed</th>\n",
       "      <th>Deaths</th>\n",
       "      <th>Recovered</th>\n",
       "    </tr>\n",
       "  </thead>\n",
       "  <tbody>\n",
       "    <tr>\n",
       "      <th>181</th>\n",
       "      <td>4/29/2020</td>\n",
       "      <td>Alabama</td>\n",
       "      <td>US</td>\n",
       "      <td>6912</td>\n",
       "      <td>256</td>\n",
       "      <td>0</td>\n",
       "    </tr>\n",
       "    <tr>\n",
       "      <th>182</th>\n",
       "      <td>4/29/2020</td>\n",
       "      <td>Alaska</td>\n",
       "      <td>US</td>\n",
       "      <td>355</td>\n",
       "      <td>9</td>\n",
       "      <td>0</td>\n",
       "    </tr>\n",
       "    <tr>\n",
       "      <th>183</th>\n",
       "      <td>4/29/2020</td>\n",
       "      <td>Alberta</td>\n",
       "      <td>Canada</td>\n",
       "      <td>5165</td>\n",
       "      <td>87</td>\n",
       "      <td>0</td>\n",
       "    </tr>\n",
       "    <tr>\n",
       "      <th>184</th>\n",
       "      <td>4/29/2020</td>\n",
       "      <td>Anguilla</td>\n",
       "      <td>UK</td>\n",
       "      <td>3</td>\n",
       "      <td>0</td>\n",
       "      <td>3</td>\n",
       "    </tr>\n",
       "    <tr>\n",
       "      <th>185</th>\n",
       "      <td>4/29/2020</td>\n",
       "      <td>Anhui</td>\n",
       "      <td>Mainland China</td>\n",
       "      <td>991</td>\n",
       "      <td>6</td>\n",
       "      <td>985</td>\n",
       "    </tr>\n",
       "  </tbody>\n",
       "</table>\n",
       "</div>"
      ],
      "text/plain": [
       "          Date     State          Region  Confirmed  Deaths  Recovered\n",
       "181  4/29/2020   Alabama              US       6912     256          0\n",
       "182  4/29/2020    Alaska              US        355       9          0\n",
       "183  4/29/2020   Alberta          Canada       5165      87          0\n",
       "184  4/29/2020  Anguilla              UK          3       0          3\n",
       "185  4/29/2020     Anhui  Mainland China        991       6        985"
      ]
     },
     "execution_count": 10,
     "metadata": {},
     "output_type": "execute_result"
    }
   ],
   "source": [
    "data.head()"
   ]
  },
  {
   "cell_type": "code",
   "execution_count": 11,
   "id": "0c6c15a6-c95e-48f8-97ea-840f00cca552",
   "metadata": {},
   "outputs": [],
   "source": [
    "x=data[data['Recovered']>data['Confirmed']]"
   ]
  },
  {
   "cell_type": "code",
   "execution_count": 12,
   "id": "2289529a-b5ee-48cc-9a2b-ef7b5cd6765d",
   "metadata": {},
   "outputs": [
    {
     "data": {
      "text/plain": [
       "array(['Canada', 'US'], dtype=object)"
      ]
     },
     "execution_count": 12,
     "metadata": {},
     "output_type": "execute_result"
    }
   ],
   "source": [
    "x[\"Region\"].unique()"
   ]
  },
  {
   "cell_type": "markdown",
   "id": "585c96b0-dd18-4702-ba41-19f7851e8355",
   "metadata": {},
   "source": [
    "## Q.4) How many regions have more than 1000 confirmed cases?"
   ]
  },
  {
   "cell_type": "code",
   "execution_count": 13,
   "id": "540aee0a-14d3-4a7e-9cef-8f8c94852079",
   "metadata": {},
   "outputs": [
    {
     "name": "stdout",
     "output_type": "stream",
     "text": [
      "['US' 'Canada' 'Mainland China' 'Hong Kong' 'Australia']\n"
     ]
    },
    {
     "data": {
      "text/plain": [
       "5"
      ]
     },
     "execution_count": 13,
     "metadata": {},
     "output_type": "execute_result"
    }
   ],
   "source": [
    "x=data[data['Confirmed'] > 1000]\n",
    "print(x[\"Region\"].unique())\n",
    "len(x[\"Region\"].unique())"
   ]
  },
  {
   "cell_type": "markdown",
   "id": "dbacd2eb-3118-4090-bb87-3a4c6b20f99d",
   "metadata": {},
   "source": [
    "## Q.5) Which region has the highest mortality rate (ratio of deaths to confirmed cases)?"
   ]
  },
  {
   "cell_type": "code",
   "execution_count": 14,
   "id": "b4a3c6c6-65b5-4913-be4f-0b91b6088961",
   "metadata": {},
   "outputs": [
    {
     "name": "stdout",
     "output_type": "stream",
     "text": [
      "Region with the highest mortality rate: Canada\n"
     ]
    },
    {
     "name": "stderr",
     "output_type": "stream",
     "text": [
      "C:\\Users\\BiG\\AppData\\Local\\Temp\\ipykernel_29232\\3693035536.py:1: SettingWithCopyWarning: \n",
      "A value is trying to be set on a copy of a slice from a DataFrame.\n",
      "Try using .loc[row_indexer,col_indexer] = value instead\n",
      "\n",
      "See the caveats in the documentation: https://pandas.pydata.org/pandas-docs/stable/user_guide/indexing.html#returning-a-view-versus-a-copy\n",
      "  data[\"Mortality Rate\"] = data[\"Deaths\"] / data[\"Confirmed\"]\n"
     ]
    }
   ],
   "source": [
    "data[\"Mortality Rate\"] = data[\"Deaths\"] / data[\"Confirmed\"]\n",
    "highest_mortality_rate_region = data[data[\"Mortality Rate\"] == data[\"Mortality Rate\"].max()][\"Region\"].values[0]\n",
    "print(\"Region with the highest mortality rate:\", highest_mortality_rate_region)"
   ]
  },
  {
   "cell_type": "markdown",
   "id": "2c369ae3-cf8f-4561-921c-8349b441024f",
   "metadata": {},
   "source": [
    "## Q.6) Compare the total number of confirmed cases in Europe and Asia."
   ]
  },
  {
   "cell_type": "code",
   "execution_count": 15,
   "id": "f2eb3799-dd90-4e63-b40c-16c6b37bcded",
   "metadata": {},
   "outputs": [
    {
     "data": {
      "text/html": [
       "<div>\n",
       "<style scoped>\n",
       "    .dataframe tbody tr th:only-of-type {\n",
       "        vertical-align: middle;\n",
       "    }\n",
       "\n",
       "    .dataframe tbody tr th {\n",
       "        vertical-align: top;\n",
       "    }\n",
       "\n",
       "    .dataframe thead th {\n",
       "        text-align: right;\n",
       "    }\n",
       "</style>\n",
       "<table border=\"1\" class=\"dataframe\">\n",
       "  <thead>\n",
       "    <tr style=\"text-align: right;\">\n",
       "      <th></th>\n",
       "      <th>Date</th>\n",
       "      <th>State</th>\n",
       "      <th>Region</th>\n",
       "      <th>Confirmed</th>\n",
       "      <th>Deaths</th>\n",
       "      <th>Recovered</th>\n",
       "      <th>Mortality Rate</th>\n",
       "    </tr>\n",
       "  </thead>\n",
       "  <tbody>\n",
       "    <tr>\n",
       "      <th>181</th>\n",
       "      <td>4/29/2020</td>\n",
       "      <td>Alabama</td>\n",
       "      <td>US</td>\n",
       "      <td>6912</td>\n",
       "      <td>256</td>\n",
       "      <td>0</td>\n",
       "      <td>0.037037</td>\n",
       "    </tr>\n",
       "  </tbody>\n",
       "</table>\n",
       "</div>"
      ],
      "text/plain": [
       "          Date    State Region  Confirmed  Deaths  Recovered  Mortality Rate\n",
       "181  4/29/2020  Alabama     US       6912     256          0        0.037037"
      ]
     },
     "execution_count": 15,
     "metadata": {},
     "output_type": "execute_result"
    }
   ],
   "source": [
    "data.head(1)"
   ]
  },
  {
   "cell_type": "code",
   "execution_count": 16,
   "id": "da55efe9-c841-4d6b-bf91-5948259a0605",
   "metadata": {},
   "outputs": [
    {
     "data": {
      "text/plain": [
       "Region\n",
       "Australia            6752\n",
       "Canada              52865\n",
       "Denmark               198\n",
       "France               1450\n",
       "Hong Kong            1037\n",
       "Macau                  45\n",
       "Mainland China      82862\n",
       "Netherlands           196\n",
       "UK                   1220\n",
       "US                1039909\n",
       "Name: Confirmed, dtype: int64"
      ]
     },
     "execution_count": 16,
     "metadata": {},
     "output_type": "execute_result"
    }
   ],
   "source": [
    "data.groupby('Region')['Confirmed'].sum()"
   ]
  },
  {
   "cell_type": "markdown",
   "id": "078ad675-1fd6-4881-acbe-f6b028909e1d",
   "metadata": {},
   "source": [
    "## Q.7) How many regions have a recovery rate above 80%?"
   ]
  },
  {
   "cell_type": "code",
   "execution_count": 17,
   "id": "cecf5621-48cc-41c4-bae8-a990019766a9",
   "metadata": {},
   "outputs": [
    {
     "name": "stdout",
     "output_type": "stream",
     "text": [
      "[('Denmark', 0.9696969696969697), ('Mainland China', 0.9366175086288046), ('Australia', 0.8464158767772512), ('Hong Kong', 0.8003857280617165)]\n"
     ]
    }
   ],
   "source": [
    "\n",
    "recovery_rates = []\n",
    "\n",
    "# Calculate recovery rate for each region\n",
    "for region in data['Region'].unique():\n",
    "    region_data = data[data['Region'] == region]\n",
    "    confirmed_cases = region_data['Confirmed'].sum()\n",
    "    recovered_cases = region_data['Recovered'].sum()\n",
    "    recovery_rate = recovered_cases / confirmed_cases\n",
    "    recovery_rates.append((region, recovery_rate))\n",
    "\n",
    "# Sort recovery rates in descending order\n",
    "recovery_rates.sort(key=lambda x: x[1], reverse=True)\n",
    "rl=[]\n",
    "for item in recovery_rates:\n",
    "    if item[1] > 0.8:\n",
    "        rl.append(item)\n",
    "\n",
    "print(rl)"
   ]
  },
  {
   "cell_type": "markdown",
   "id": "53c8555e-8090-43b4-b3cb-1f465eb2ae66",
   "metadata": {},
   "source": [
    "## Q.8) What is the average number of confirmed cases per region?"
   ]
  },
  {
   "cell_type": "code",
   "execution_count": 18,
   "id": "f0528784-b56b-41cd-a1ba-9ec5a7678832",
   "metadata": {},
   "outputs": [
    {
     "name": "stdout",
     "output_type": "stream",
     "text": [
      "Region\n",
      "Australia            6752\n",
      "Canada              52865\n",
      "Denmark               198\n",
      "France               1450\n",
      "Hong Kong            1037\n",
      "Macau                  45\n",
      "Mainland China      82862\n",
      "Netherlands           196\n",
      "UK                   1220\n",
      "US                1039909\n",
      "Name: Confirmed, dtype: int64\n",
      "The average is : 118653.4\n"
     ]
    }
   ],
   "source": [
    "a=data.groupby('Region')['Confirmed'].sum()\n",
    "print(a)\n",
    "s=0\n",
    "for item in a:\n",
    "    s = s + item\n",
    "    \n",
    "avg=s/len(data['Region'].unique())\n",
    "print('The average is : ' + str(avg))"
   ]
  },
  {
   "cell_type": "markdown",
   "id": "fdeb1e42-ce61-4c8a-bc65-ef9bea8b4e66",
   "metadata": {},
   "source": [
    "## Q.9 ) Show the number of Confirmed , Deaths and Recovered cases in each Region."
   ]
  },
  {
   "cell_type": "code",
   "execution_count": 19,
   "id": "39b259b4-0fa3-4e1d-932a-5f0a53d94ee0",
   "metadata": {},
   "outputs": [
    {
     "name": "stderr",
     "output_type": "stream",
     "text": [
      "C:\\Users\\BiG\\AppData\\Local\\Temp\\ipykernel_29232\\1390744451.py:1: FutureWarning: Indexing with multiple keys (implicitly converted to a tuple of keys) will be deprecated, use a list instead.\n",
      "  data.groupby('Region')['Confirmed', 'Recovered','Deaths'].sum()\n"
     ]
    },
    {
     "data": {
      "text/html": [
       "<div>\n",
       "<style scoped>\n",
       "    .dataframe tbody tr th:only-of-type {\n",
       "        vertical-align: middle;\n",
       "    }\n",
       "\n",
       "    .dataframe tbody tr th {\n",
       "        vertical-align: top;\n",
       "    }\n",
       "\n",
       "    .dataframe thead th {\n",
       "        text-align: right;\n",
       "    }\n",
       "</style>\n",
       "<table border=\"1\" class=\"dataframe\">\n",
       "  <thead>\n",
       "    <tr style=\"text-align: right;\">\n",
       "      <th></th>\n",
       "      <th>Confirmed</th>\n",
       "      <th>Recovered</th>\n",
       "      <th>Deaths</th>\n",
       "    </tr>\n",
       "    <tr>\n",
       "      <th>Region</th>\n",
       "      <th></th>\n",
       "      <th></th>\n",
       "      <th></th>\n",
       "    </tr>\n",
       "  </thead>\n",
       "  <tbody>\n",
       "    <tr>\n",
       "      <th>Australia</th>\n",
       "      <td>6752</td>\n",
       "      <td>5715</td>\n",
       "      <td>91</td>\n",
       "    </tr>\n",
       "    <tr>\n",
       "      <th>Canada</th>\n",
       "      <td>52865</td>\n",
       "      <td>20327</td>\n",
       "      <td>3155</td>\n",
       "    </tr>\n",
       "    <tr>\n",
       "      <th>Denmark</th>\n",
       "      <td>198</td>\n",
       "      <td>192</td>\n",
       "      <td>0</td>\n",
       "    </tr>\n",
       "    <tr>\n",
       "      <th>France</th>\n",
       "      <td>1450</td>\n",
       "      <td>890</td>\n",
       "      <td>34</td>\n",
       "    </tr>\n",
       "    <tr>\n",
       "      <th>Hong Kong</th>\n",
       "      <td>1037</td>\n",
       "      <td>830</td>\n",
       "      <td>4</td>\n",
       "    </tr>\n",
       "    <tr>\n",
       "      <th>Macau</th>\n",
       "      <td>45</td>\n",
       "      <td>34</td>\n",
       "      <td>0</td>\n",
       "    </tr>\n",
       "    <tr>\n",
       "      <th>Mainland China</th>\n",
       "      <td>82862</td>\n",
       "      <td>77610</td>\n",
       "      <td>4633</td>\n",
       "    </tr>\n",
       "    <tr>\n",
       "      <th>Netherlands</th>\n",
       "      <td>196</td>\n",
       "      <td>119</td>\n",
       "      <td>16</td>\n",
       "    </tr>\n",
       "    <tr>\n",
       "      <th>UK</th>\n",
       "      <td>1220</td>\n",
       "      <td>857</td>\n",
       "      <td>69</td>\n",
       "    </tr>\n",
       "    <tr>\n",
       "      <th>US</th>\n",
       "      <td>1039909</td>\n",
       "      <td>120720</td>\n",
       "      <td>60967</td>\n",
       "    </tr>\n",
       "  </tbody>\n",
       "</table>\n",
       "</div>"
      ],
      "text/plain": [
       "                Confirmed  Recovered  Deaths\n",
       "Region                                      \n",
       "Australia            6752       5715      91\n",
       "Canada              52865      20327    3155\n",
       "Denmark               198        192       0\n",
       "France               1450        890      34\n",
       "Hong Kong            1037        830       4\n",
       "Macau                  45         34       0\n",
       "Mainland China      82862      77610    4633\n",
       "Netherlands           196        119      16\n",
       "UK                   1220        857      69\n",
       "US                1039909     120720   60967"
      ]
     },
     "execution_count": 19,
     "metadata": {},
     "output_type": "execute_result"
    }
   ],
   "source": [
    "data.groupby('Region')['Confirmed', 'Recovered','Deaths'].sum()"
   ]
  },
  {
   "cell_type": "markdown",
   "id": "0c426e1d-4730-479a-afa4-ff1f3570cf36",
   "metadata": {},
   "source": [
    "## Q10) Remove all the records where Confirmed Cases is Less Than 10."
   ]
  },
  {
   "cell_type": "code",
   "execution_count": 20,
   "id": "423b8d47-0436-4601-aad3-c42286b3f80c",
   "metadata": {},
   "outputs": [
    {
     "data": {
      "text/html": [
       "<div>\n",
       "<style scoped>\n",
       "    .dataframe tbody tr th:only-of-type {\n",
       "        vertical-align: middle;\n",
       "    }\n",
       "\n",
       "    .dataframe tbody tr th {\n",
       "        vertical-align: top;\n",
       "    }\n",
       "\n",
       "    .dataframe thead th {\n",
       "        text-align: right;\n",
       "    }\n",
       "</style>\n",
       "<table border=\"1\" class=\"dataframe\">\n",
       "  <thead>\n",
       "    <tr style=\"text-align: right;\">\n",
       "      <th></th>\n",
       "      <th>Date</th>\n",
       "      <th>State</th>\n",
       "      <th>Region</th>\n",
       "      <th>Confirmed</th>\n",
       "      <th>Deaths</th>\n",
       "      <th>Recovered</th>\n",
       "      <th>Mortality Rate</th>\n",
       "    </tr>\n",
       "  </thead>\n",
       "  <tbody>\n",
       "    <tr>\n",
       "      <th>181</th>\n",
       "      <td>4/29/2020</td>\n",
       "      <td>Alabama</td>\n",
       "      <td>US</td>\n",
       "      <td>6912</td>\n",
       "      <td>256</td>\n",
       "      <td>0</td>\n",
       "      <td>0.037037</td>\n",
       "    </tr>\n",
       "    <tr>\n",
       "      <th>182</th>\n",
       "      <td>4/29/2020</td>\n",
       "      <td>Alaska</td>\n",
       "      <td>US</td>\n",
       "      <td>355</td>\n",
       "      <td>9</td>\n",
       "      <td>0</td>\n",
       "      <td>0.025352</td>\n",
       "    </tr>\n",
       "    <tr>\n",
       "      <th>183</th>\n",
       "      <td>4/29/2020</td>\n",
       "      <td>Alberta</td>\n",
       "      <td>Canada</td>\n",
       "      <td>5165</td>\n",
       "      <td>87</td>\n",
       "      <td>0</td>\n",
       "      <td>0.016844</td>\n",
       "    </tr>\n",
       "    <tr>\n",
       "      <th>184</th>\n",
       "      <td>4/29/2020</td>\n",
       "      <td>Anguilla</td>\n",
       "      <td>UK</td>\n",
       "      <td>3</td>\n",
       "      <td>0</td>\n",
       "      <td>3</td>\n",
       "      <td>0.000000</td>\n",
       "    </tr>\n",
       "    <tr>\n",
       "      <th>185</th>\n",
       "      <td>4/29/2020</td>\n",
       "      <td>Anhui</td>\n",
       "      <td>Mainland China</td>\n",
       "      <td>991</td>\n",
       "      <td>6</td>\n",
       "      <td>985</td>\n",
       "      <td>0.006054</td>\n",
       "    </tr>\n",
       "    <tr>\n",
       "      <th>...</th>\n",
       "      <td>...</td>\n",
       "      <td>...</td>\n",
       "      <td>...</td>\n",
       "      <td>...</td>\n",
       "      <td>...</td>\n",
       "      <td>...</td>\n",
       "      <td>...</td>\n",
       "    </tr>\n",
       "    <tr>\n",
       "      <th>316</th>\n",
       "      <td>4/29/2020</td>\n",
       "      <td>Wyoming</td>\n",
       "      <td>US</td>\n",
       "      <td>545</td>\n",
       "      <td>7</td>\n",
       "      <td>0</td>\n",
       "      <td>0.012844</td>\n",
       "    </tr>\n",
       "    <tr>\n",
       "      <th>317</th>\n",
       "      <td>4/29/2020</td>\n",
       "      <td>Xinjiang</td>\n",
       "      <td>Mainland China</td>\n",
       "      <td>76</td>\n",
       "      <td>3</td>\n",
       "      <td>73</td>\n",
       "      <td>0.039474</td>\n",
       "    </tr>\n",
       "    <tr>\n",
       "      <th>318</th>\n",
       "      <td>4/29/2020</td>\n",
       "      <td>Yukon</td>\n",
       "      <td>Canada</td>\n",
       "      <td>11</td>\n",
       "      <td>0</td>\n",
       "      <td>0</td>\n",
       "      <td>0.000000</td>\n",
       "    </tr>\n",
       "    <tr>\n",
       "      <th>319</th>\n",
       "      <td>4/29/2020</td>\n",
       "      <td>Yunnan</td>\n",
       "      <td>Mainland China</td>\n",
       "      <td>185</td>\n",
       "      <td>2</td>\n",
       "      <td>181</td>\n",
       "      <td>0.010811</td>\n",
       "    </tr>\n",
       "    <tr>\n",
       "      <th>320</th>\n",
       "      <td>4/29/2020</td>\n",
       "      <td>Zhejiang</td>\n",
       "      <td>Mainland China</td>\n",
       "      <td>1268</td>\n",
       "      <td>1</td>\n",
       "      <td>1263</td>\n",
       "      <td>0.000789</td>\n",
       "    </tr>\n",
       "  </tbody>\n",
       "</table>\n",
       "<p>140 rows × 7 columns</p>\n",
       "</div>"
      ],
      "text/plain": [
       "          Date     State          Region  Confirmed  Deaths  Recovered  \\\n",
       "181  4/29/2020   Alabama              US       6912     256          0   \n",
       "182  4/29/2020    Alaska              US        355       9          0   \n",
       "183  4/29/2020   Alberta          Canada       5165      87          0   \n",
       "184  4/29/2020  Anguilla              UK          3       0          3   \n",
       "185  4/29/2020     Anhui  Mainland China        991       6        985   \n",
       "..         ...       ...             ...        ...     ...        ...   \n",
       "316  4/29/2020   Wyoming              US        545       7          0   \n",
       "317  4/29/2020  Xinjiang  Mainland China         76       3         73   \n",
       "318  4/29/2020     Yukon          Canada         11       0          0   \n",
       "319  4/29/2020    Yunnan  Mainland China        185       2        181   \n",
       "320  4/29/2020  Zhejiang  Mainland China       1268       1       1263   \n",
       "\n",
       "     Mortality Rate  \n",
       "181        0.037037  \n",
       "182        0.025352  \n",
       "183        0.016844  \n",
       "184        0.000000  \n",
       "185        0.006054  \n",
       "..              ...  \n",
       "316        0.012844  \n",
       "317        0.039474  \n",
       "318        0.000000  \n",
       "319        0.010811  \n",
       "320        0.000789  \n",
       "\n",
       "[140 rows x 7 columns]"
      ]
     },
     "execution_count": 20,
     "metadata": {},
     "output_type": "execute_result"
    }
   ],
   "source": [
    "data=data[~data['Confirmed']<10]\n",
    "data"
   ]
  },
  {
   "cell_type": "markdown",
   "id": "b98e0241-1993-490f-b84a-70c05dc0bfe8",
   "metadata": {},
   "source": [
    "## Q.11) In which Region, maximum number of Confirmed cases were recorded ?"
   ]
  },
  {
   "cell_type": "code",
   "execution_count": 21,
   "id": "8683c028-bcc8-412a-8088-3669012b67c8",
   "metadata": {},
   "outputs": [
    {
     "data": {
      "text/plain": [
       "Region\n",
       "US    1039909\n",
       "Name: Confirmed, dtype: int64"
      ]
     },
     "execution_count": 21,
     "metadata": {},
     "output_type": "execute_result"
    }
   ],
   "source": [
    "data.groupby('Region').Confirmed.sum().sort_values(ascending = False).head(1)"
   ]
  },
  {
   "cell_type": "markdown",
   "id": "696959ac-0600-4632-8853-f8a2c343dc5a",
   "metadata": {},
   "source": [
    "## Q.12) In which Region, minimum number of Deaths cases were recorded ?"
   ]
  },
  {
   "cell_type": "code",
   "execution_count": 22,
   "id": "24bbc1e8-c91a-4a4b-9a40-37f557f86913",
   "metadata": {},
   "outputs": [
    {
     "data": {
      "text/plain": [
       "Region\n",
       "Denmark         0\n",
       "Macau           0\n",
       "Hong Kong       4\n",
       "Netherlands    16\n",
       "France         34\n",
       "Name: Deaths, dtype: int64"
      ]
     },
     "execution_count": 22,
     "metadata": {},
     "output_type": "execute_result"
    }
   ],
   "source": [
    "data.groupby('Region').Deaths.sum().sort_values(ascending = True).head()"
   ]
  }
 ],
 "metadata": {
  "kernelspec": {
   "display_name": "Python 3 (ipykernel)",
   "language": "python",
   "name": "python3"
  },
  "language_info": {
   "codemirror_mode": {
    "name": "ipython",
    "version": 3
   },
   "file_extension": ".py",
   "mimetype": "text/x-python",
   "name": "python",
   "nbconvert_exporter": "python",
   "pygments_lexer": "ipython3",
   "version": "3.10.9"
  }
 },
 "nbformat": 4,
 "nbformat_minor": 5
}
